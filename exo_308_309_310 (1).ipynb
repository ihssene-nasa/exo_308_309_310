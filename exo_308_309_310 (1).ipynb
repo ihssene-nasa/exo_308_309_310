{
 "cells": [
  {
   "cell_type": "markdown",
   "metadata": {},
   "source": [
    "# Hypothesis Test of the Means:\n"
   ]
  },
  {
   "cell_type": "markdown",
   "metadata": {},
   "source": [
    "some points to keep in mind about p-value and hypothesis testing in general: \n",
    "\n",
    "• **The interpretation of the p-value :** \n",
    "\n",
    "it represents the prob of having a sample mean greater then the null value of H0 or, from  n random samples, given that the H0 is true  ( a conditionned probability ) \n",
    "In other words \n",
    "        P-value = P(extreme events in favor to alternative hypothesis  | H0 is true ) \n",
    "\n",
    "\n",
    "\n",
    "• High P-values: Your sample results are consistent with a true null hypothesis. <br>\n",
    "• Low P-values: Your sample results are not consistent with a null hypothesis. <br>\n",
    "\n",
    "• The significance level, also denoted as alpha or α, is the probability of rejecting the null  hypothesis when it is true\n",
    "\n",
    "\n",
    "• Type 1 error : reject the H0 when the latter is true <br>\n",
    "• Type 2 error : accept the H0 when the latter is false , in other words , we keep the H0 when we shouldn't <br>\n",
    "\n",
    "\n",
    "• Type 1 error expressed with propability : \n",
    "  P-value = P(typ1 error |H0 is true ) = alpha \n",
    "  Increasing alpha -> increase error rate of making a type I error rate!\n",
    "\n",
    "\n",
    "\n",
    "• **Goal of Increasing alpha (increase type 1 error) :** when we don't  want to fail to reject the H0 when the latter is false <br>\n",
    "• **Goal of reducing alpha :** when we want to reject the H0 ONLY if we have STRONG evidence  favoring the Ha.\n",
    "\n"
   ]
  },
  {
   "cell_type": "markdown",
   "metadata": {},
   "source": [
    "## One sample t-test:"
   ]
  },
  {
   "cell_type": "code",
   "execution_count": 115,
   "metadata": {
    "ExecuteTime": {
     "end_time": "2021-07-25T18:25:32.326332Z",
     "start_time": "2021-07-25T18:25:27.953078Z"
    }
   },
   "outputs": [],
   "source": [
    "import numpy as np\n",
    "import scipy.stats as st\n",
    "import pandas as pd"
   ]
  },
  {
   "cell_type": "markdown",
   "metadata": {},
   "source": [
    "**Two-side test**"
   ]
  },
  {
   "cell_type": "markdown",
   "metadata": {},
   "source": [
    "Question 1 : the goal of this exercice is to simulate one sample x with normal distribution\n",
    "\n",
    "- step 1 : create n=10 random values using `np.random.randn` , note that this instruction returns z scores of standard normal\n",
    "- step 2 : do the inverse transform to get x from these z scores using mu=3 and sigma=2 ( hint : use the forumla of z score ) and store the result in variable x\n",
    "\\begin{equation}\n",
    " z= \\frac{x-\\mu}{\\sigma}\n",
    "\\end{equation}\n",
    "\n",
    "\n",
    "- step 3 : we wish to test if the null hypothesis with a **two-side alternative hypothesis** , run the following and interpret the result , knowing that mu_0 is the mean of the null hypothesis \n",
    "\n",
    "``` \n",
    "mu_0 = 0\n",
    "st.ttest_1samp(x, mu_0)\n",
    "\n",
    "```\n",
    "\n",
    "- step 4 : forumate the associated null hypothesis $H_{0}$ and alternative hypothesis $H_{a}$\n"
   ]
  },
  {
   "cell_type": "code",
   "execution_count": 97,
   "metadata": {
    "ExecuteTime": {
     "end_time": "2021-07-25T19:15:32.852494Z",
     "start_time": "2021-07-25T19:15:32.833506Z"
    }
   },
   "outputs": [
    {
     "name": "stdout",
     "output_type": "stream",
     "text": [
      " x  [ 3.94287033  0.61804861  5.86541394  2.37469621  1.55882253  4.77432588\n",
      "  4.71917683  1.72695299  3.03139274 -1.48536991]\n",
      "Ttest_1sampResult(statistic=3.8682023385794677, pvalue=0.0037991794351627216)\n"
     ]
    },
    {
     "data": {
      "text/plain": [
       "-2.262157162740992"
      ]
     },
     "execution_count": 97,
     "metadata": {},
     "output_type": "execute_result"
    }
   ],
   "source": [
    "#don't delete this line \n",
    "\n",
    "np.random.seed(1234)\n",
    "n=10\n",
    "z=np.random.randn(10)\n",
    "\n",
    "mu=3\n",
    "sigma=2\n",
    "x = z * sigma + mu\n",
    "print(\" x \",x)\n",
    "mu_0 = 0\n",
    "print(st.ttest_1samp(x, mu_0))\n",
    "st.t.ppf(0.025,df=n-1)\n",
    "# significance level =  5%\n",
    "#2.5% on the left, 2.5% on the right, coz we have two sides"
   ]
  },
  {
   "cell_type": "markdown",
   "metadata": {
    "ExecuteTime": {
     "end_time": "2021-07-25T18:38:15.948466Z",
     "start_time": "2021-07-25T18:38:15.930459Z"
    }
   },
   "source": [
    "Question 2 : now that you know how to use `st.ttest_1samp` , use the forumlas that you learnt during the course to get the same results , here's the step to follow : \n",
    "\n",
    "- step 1 : calculate the `mean` and the `standard error` $SE$ \n",
    "- step 2 : calculate the t-score using the following forumla :\n",
    "\n",
    "\n",
    "\\begin{equation}\n",
    "  t = \\frac{x-\\bar{x} }{ \\frac{S}{\\sqrt{n} } }\n",
    "\\end{equation}\n",
    "\n",
    "- step 3 : calculate the probability of `p-value` using `st.t.cdf` , remember that p-value = $2*P(X>tscore)$ \n",
    "  \n",
    "\n"
   ]
  },
  {
   "cell_type": "code",
   "execution_count": 98,
   "metadata": {
    "ExecuteTime": {
     "end_time": "2021-07-25T18:26:01.769742Z",
     "start_time": "2021-07-25T18:26:01.702473Z"
    }
   },
   "outputs": [],
   "source": [
    "def ttest_onesample(mu_0,alternative):\n",
    "    print(mu_0)\n",
    "    mean=x.mean()\n",
    "    sem = x.std(ddof=1)/np.sqrt(n) #when working with a sample , always use ddof\n",
    "    #the std of the sample is calculatd = sqrt(variance)\n",
    "    #std = sqrt(variance)\n",
    "    #variance = sum(x-x.mean())/(n-ddof) #here ddof = 1\n",
    "    alpha = 0.05\n",
    "    sig_level = alpha\n",
    "    t = ((mean-mu_0)/(sem))\n",
    "    if alternative ==\"two_tail\":\n",
    "        p_value = 2 * (1-st.t.cdf(t,df=len(x)-1)) #*2 coz we have two tails , always in sample stats : ddof = len(x)-1\n",
    "        sig_level = alpha/2\n",
    "    elif alternative ==\"left_tail\":\n",
    "        p_value = st.t.cdf(t,df=len(x)-1) \n",
    "    else:\n",
    "        p_value =(1-st.t.cdf(t,df=len(x)-1)) \n",
    "\n",
    "    print(f\"p-value {p_value}, t {t} , sig level alpha {sig_level}\") #alpha/2 coz we have two tails\n"
   ]
  },
  {
   "cell_type": "code",
   "execution_count": 99,
   "metadata": {},
   "outputs": [
    {
     "name": "stdout",
     "output_type": "stream",
     "text": [
      "0\n",
      "p-value 0.001899589717581418, t 3.8682023385794677 , sig level alpha 0.05\n"
     ]
    }
   ],
   "source": [
    "#Ha : m> mu0 we reject if p_value < significance level\n",
    "#H0 : m <= m0\n",
    "ttest_onesample(0,\"right_tail\") "
   ]
  },
  {
   "cell_type": "markdown",
   "metadata": {
    "ExecuteTime": {
     "end_time": "2021-07-25T19:21:00.580984Z",
     "start_time": "2021-07-25T19:21:00.559997Z"
    }
   },
   "source": [
    "Question 3: same as the above but with `mu_0 = 1` , `mu_0 = 2` \n"
   ]
  },
  {
   "cell_type": "markdown",
   "metadata": {
    "ExecuteTime": {
     "end_time": "2021-07-25T18:26:34.824710Z",
     "start_time": "2021-07-25T18:26:34.816736Z"
    }
   },
   "source": [
    "**right-tail test**"
   ]
  },
  {
   "cell_type": "markdown",
   "metadata": {},
   "source": [
    "Question 4 : everything remain the same , except that the p-value is calculated differently , since : \n",
    "\n",
    " p-value = $P(X>tscore)$ \n",
    "\n",
    "\n",
    "calculate the p-value with mu_0= 0 , mu_0= 1 , mu_0= 2 "
   ]
  },
  {
   "cell_type": "code",
   "execution_count": 116,
   "metadata": {},
   "outputs": [
    {
     "name": "stdout",
     "output_type": "stream",
     "text": [
      "1\n",
      "p-value 1.65043240185625e-08, t 17.269010515793685 , sig level alpha 0.05\n"
     ]
    },
    {
     "ename": "TypeError",
     "evalue": "ttest_1samp() got an unexpected keyword argument 'alternative'",
     "output_type": "error",
     "traceback": [
      "\u001b[1;31m---------------------------------------------------------------------------\u001b[0m",
      "\u001b[1;31mTypeError\u001b[0m                                 Traceback (most recent call last)",
      "\u001b[1;32m<ipython-input-116-7296dbcec4be>\u001b[0m in \u001b[0;36m<module>\u001b[1;34m\u001b[0m\n\u001b[0;32m      1\u001b[0m \u001b[0mttest_onesample\u001b[0m\u001b[1;33m(\u001b[0m\u001b[1;36m1\u001b[0m\u001b[1;33m,\u001b[0m\u001b[0malternative\u001b[0m\u001b[1;33m=\u001b[0m\u001b[1;34m\"right_tail\"\u001b[0m\u001b[1;33m)\u001b[0m\u001b[1;33m\u001b[0m\u001b[1;33m\u001b[0m\u001b[0m\n\u001b[1;32m----> 2\u001b[1;33m \u001b[0mprint\u001b[0m\u001b[1;33m(\u001b[0m\u001b[0mst\u001b[0m\u001b[1;33m.\u001b[0m\u001b[0mttest_1samp\u001b[0m\u001b[1;33m(\u001b[0m\u001b[0mx\u001b[0m\u001b[1;33m,\u001b[0m\u001b[1;36m0\u001b[0m\u001b[1;33m,\u001b[0m\u001b[0malternative\u001b[0m\u001b[1;33m=\u001b[0m\u001b[1;34m\"less\"\u001b[0m\u001b[1;33m)\u001b[0m\u001b[1;33m)\u001b[0m\u001b[1;33m\u001b[0m\u001b[1;33m\u001b[0m\u001b[0m\n\u001b[0m",
      "\u001b[1;31mTypeError\u001b[0m: ttest_1samp() got an unexpected keyword argument 'alternative'"
     ]
    }
   ],
   "source": [
    "ttest_onesample(1,alternative=\"right_tail\")\n",
    "print(st.ttest_1samp(x,0,alternative=\"less\"))\n"
   ]
  },
  {
   "cell_type": "code",
   "execution_count": null,
   "metadata": {},
   "outputs": [],
   "source": [
    "#mu of the population\n",
    "#mu_0 what we wanna test\n",
    "#H0: mu = mu_0, rejectes if p_value < sig level\n",
    "#Ha : mu != mu_0\n",
    "#we dont reject H0, coz p_value > sig level, we accept H0 that says mu = mu_0"
   ]
  },
  {
   "cell_type": "code",
   "execution_count": 101,
   "metadata": {},
   "outputs": [
    {
     "name": "stdout",
     "output_type": "stream",
     "text": [
      "2\n",
      "p-value 0.16803373472127636, t 1.0162114374603375 , sig level alpha 0.05\n"
     ]
    }
   ],
   "source": [
    "ttest_onesample(2,\"right_tail\")\n",
    "#we dont reject H0 since p_value>sig level, we accept that mu of population = mu0"
   ]
  },
  {
   "cell_type": "markdown",
   "metadata": {},
   "source": [
    "**left-tail test**"
   ]
  },
  {
   "cell_type": "markdown",
   "metadata": {},
   "source": [
    "Question 5 : everything remain the same , except that the p-value is calculated differently , since : \n",
    "\n",
    " p-value = $P(X<tscore)$ \n",
    "\n",
    "\n",
    "calculate the p-value with mu_0= 0 , mu_0= 1 , mu_0= 2 "
   ]
  },
  {
   "cell_type": "markdown",
   "metadata": {
    "heading_collapsed": true
   },
   "source": [
    "## independent two sample t-test"
   ]
  },
  {
   "cell_type": "markdown",
   "metadata": {
    "hidden": true
   },
   "source": [
    "Question 6 : just like you created your samples in the first question , follow the same steps in order to create x1 and x2 that have the following propreties :\n",
    "\n",
    "x1 (sample 1 ) : n1 = 10 , mu1 = 3 , sigma1 = 2\n",
    "\n",
    "x2 (sample 2) :  n2 = 20 , mu2 = 5 , sigma2 = 3"
   ]
  },
  {
   "cell_type": "code",
   "execution_count": 102,
   "metadata": {
    "ExecuteTime": {
     "end_time": "2021-07-25T20:24:17.003710Z",
     "start_time": "2021-07-25T20:24:16.986718Z"
    },
    "hidden": true
   },
   "outputs": [],
   "source": [
    "#make sure to name your variables x1 and x2\n",
    "\n",
    "n1=10\n",
    "np.random.seed(1234)\n",
    "z1 = np.random.randn(n1)\n",
    "sigma1 = 2\n",
    "mu1 = 3\n",
    "x1 = z1*sigma1 + mu1\n",
    "\n",
    "n2=20\n",
    "np.random.seed(1234)\n",
    "z2 = np.random.randn(n2)\n",
    "sigma2 = 3\n",
    "mu2 = 5\n",
    "\n",
    "x2 = z2*sigma2 + mu2"
   ]
  },
  {
   "cell_type": "markdown",
   "metadata": {
    "hidden": true
   },
   "source": [
    "Question 7 : run the following and interpret the results : "
   ]
  },
  {
   "cell_type": "code",
   "execution_count": 103,
   "metadata": {
    "hidden": true
   },
   "outputs": [
    {
     "data": {
      "text/plain": [
       "Ttest_indResult(statistic=-2.2117261957242236, pvalue=0.036233352621873154)"
      ]
     },
     "execution_count": 103,
     "metadata": {},
     "output_type": "execute_result"
    }
   ],
   "source": [
    "st.ttest_ind(x1,x2,equal_var=False)                                       "
   ]
  },
  {
   "cell_type": "markdown",
   "metadata": {
    "hidden": true
   },
   "source": [
    "Question 8 : calculate x1_mean , x2_mean  , s1 (unbiased standard deviation) , s2 of the two samples x1 and x2"
   ]
  },
  {
   "cell_type": "code",
   "execution_count": 104,
   "metadata": {
    "hidden": true
   },
   "outputs": [],
   "source": [
    "m1 = x1.mean()\n",
    "m2 = x2.mean()\n",
    "s1 = x1.std(ddof=1)\n",
    "s2 = x2.std(ddof=1)\n"
   ]
  },
  {
   "cell_type": "markdown",
   "metadata": {
    "hidden": true
   },
   "source": [
    "Question 9 : run the function using the descriptive statistics optained in the previous question using  `st.ttest_ind_from_stats ` (i invite you to read the documentation first  ) , also make sure to set `equal_var=False`    "
   ]
  },
  {
   "cell_type": "code",
   "execution_count": 105,
   "metadata": {},
   "outputs": [
    {
     "data": {
      "text/plain": [
       "Ttest_indResult(statistic=-2.2117261957242236, pvalue=0.036233352621873154)"
      ]
     },
     "execution_count": 105,
     "metadata": {},
     "output_type": "execute_result"
    }
   ],
   "source": [
    "st.ttest_ind_from_stats(m1,s1,n1,m2,s2,n2,equal_var=False)"
   ]
  },
  {
   "cell_type": "markdown",
   "metadata": {},
   "source": [
    "## Paired two sample t-test"
   ]
  },
  {
   "cell_type": "markdown",
   "metadata": {},
   "source": [
    "Question 10 : Simulate two samples of size **n=10** with Normal distribution. to do so : \n",
    "\n",
    "- step 1 : create x1 using the same method as described in question1 with mu=3 , sigma=2\n",
    "- step 2 : create a \"noisy\" distribution derived from x1 using the following formula : \n",
    "                    x2 = x1 + np.random.randn(n) + 1\n",
    "                    \n",
    "(Notice that the x2 is created by adding some 'noise' to the x1)\n",
    "\n",
    "So,'one to one' relation is established."
   ]
  },
  {
   "cell_type": "code",
   "execution_count": 106,
   "metadata": {},
   "outputs": [],
   "source": [
    "n=500\n",
    "np.random.seed(1234)\n",
    "z = np.random.randn(n)\n",
    "sigma = 2\n",
    "mu = 3\n",
    "x1 = z*sigma + mu\n",
    "\n",
    "\n",
    "x2 = x1 +z + 1"
   ]
  },
  {
   "cell_type": "code",
   "execution_count": 24,
   "metadata": {},
   "outputs": [
    {
     "data": {
      "text/plain": [
       "(2.7126330151064457, 3.5689495226596697)"
      ]
     },
     "execution_count": 24,
     "metadata": {},
     "output_type": "execute_result"
    }
   ],
   "source": [
    "x1.mean() , x2.mean()"
   ]
  },
  {
   "cell_type": "markdown",
   "metadata": {},
   "source": [
    "Question 11 : \n",
    "run the following line and interpret the results \n"
   ]
  },
  {
   "cell_type": "code",
   "execution_count": 107,
   "metadata": {},
   "outputs": [
    {
     "data": {
      "text/plain": [
       "Ttest_relResult(statistic=-23.507081770550556, pvalue=8.274574401234557e-83)"
      ]
     },
     "execution_count": 107,
     "metadata": {},
     "output_type": "execute_result"
    }
   ],
   "source": [
    "# Two tail test.\n",
    "st.ttest_rel(x1,x2)\n",
    "#The smaller is p value, means the samples are related "
   ]
  },
  {
   "cell_type": "markdown",
   "metadata": {},
   "source": [
    "Question 12 : Compare with the indepdent two sample t-test on the same dataset. \n"
   ]
  },
  {
   "cell_type": "code",
   "execution_count": 108,
   "metadata": {
    "ExecuteTime": {
     "end_time": "2021-07-25T20:39:52.407033Z",
     "start_time": "2021-07-25T20:39:52.356047Z"
    }
   },
   "outputs": [
    {
     "data": {
      "text/plain": [
       "Ttest_indResult(statistic=-6.519691435403449, pvalue=1.193163822997268e-10)"
      ]
     },
     "execution_count": 108,
     "metadata": {},
     "output_type": "execute_result"
    }
   ],
   "source": [
    "st.ttest_ind(x1,x2,equal_var=False)\n",
    "#x1.mean(), x2.mean()\n",
    "#here we only compare the mean\n",
    "#to know if the samples have the sample stats (mean in this case)"
   ]
  },
  {
   "cell_type": "markdown",
   "metadata": {
    "heading_collapsed": true
   },
   "source": [
    "## ANOVA"
   ]
  },
  {
   "cell_type": "markdown",
   "metadata": {
    "hidden": true
   },
   "source": [
    "There are three groups of students. The data corresponds to the test scores. Determine whether there is any significant difference in the group test scores."
   ]
  },
  {
   "cell_type": "code",
   "execution_count": 41,
   "metadata": {
    "ExecuteTime": {
     "end_time": "2021-07-25T20:40:51.242784Z",
     "start_time": "2021-07-25T20:40:51.230792Z"
    },
    "hidden": true
   },
   "outputs": [],
   "source": [
    "# Data.\n",
    "x1 = np.array([82,93,61,74,69,70,53])\n",
    "x2 = np.array([71,62,85,94,78,66,71])\n",
    "x3 = np.array([64,73,87,91,56,78,87])"
   ]
  },
  {
   "cell_type": "code",
   "execution_count": 42,
   "metadata": {
    "ExecuteTime": {
     "end_time": "2021-07-25T20:40:59.728639Z",
     "start_time": "2021-07-25T20:40:59.680666Z"
    },
    "hidden": true
   },
   "outputs": [
    {
     "name": "stdout",
     "output_type": "stream",
     "text": [
      "Test statistic  : 0.283726 \n",
      "p-value         : 0.756278 \n"
     ]
    }
   ],
   "source": [
    "# Using the f_onway() function from the SciPy library.\n",
    "res=st.f_oneway(x1,x2,x3)\n",
    "print(\"Test statistic  : %f \" % res[0] )\n",
    "print(\"p-value         : %f \" % res[1] )\n",
    "#p value = 0, means at least one is not equal"
   ]
  },
  {
   "cell_type": "code",
   "execution_count": 43,
   "metadata": {},
   "outputs": [
    {
     "data": {
      "text/plain": [
       "(71.71428571428571, 75.28571428571429, 76.57142857142857)"
      ]
     },
     "execution_count": 43,
     "metadata": {},
     "output_type": "execute_result"
    }
   ],
   "source": [
    "x1.mean(), x2.mean(), x3.mean()"
   ]
  },
  {
   "cell_type": "markdown",
   "metadata": {},
   "source": [
    "# Summarizing categorical variables:"
   ]
  },
  {
   "cell_type": "code",
   "execution_count": 50,
   "metadata": {},
   "outputs": [],
   "source": [
    "df = pd.read_csv('data_studentlist.csv', header='infer',encoding = 'latin1')"
   ]
  },
  {
   "cell_type": "markdown",
   "metadata": {
    "heading_collapsed": true
   },
   "source": [
    "## Frequency table (One way table):"
   ]
  },
  {
   "cell_type": "code",
   "execution_count": 51,
   "metadata": {
    "hidden": true
   },
   "outputs": [],
   "source": [
    "# Categorical variables.\n",
    "bloodType = df['bloodtype']\n",
    "gender = df['gender']"
   ]
  },
  {
   "cell_type": "markdown",
   "metadata": {
    "hidden": true
   },
   "source": [
    "get the frequency table of bloodtype"
   ]
  },
  {
   "cell_type": "code",
   "execution_count": 54,
   "metadata": {
    "hidden": true
   },
   "outputs": [],
   "source": [
    "FTB = bloodType.value_counts()"
   ]
  },
  {
   "cell_type": "markdown",
   "metadata": {
    "hidden": true
   },
   "source": [
    "get the frequency table of gender"
   ]
  },
  {
   "cell_type": "code",
   "execution_count": 55,
   "metadata": {
    "hidden": true
   },
   "outputs": [],
   "source": [
    "FTG = gender.value_counts()"
   ]
  },
  {
   "cell_type": "markdown",
   "metadata": {
    "hidden": true
   },
   "source": [
    "get the normalized frequency table of bloodtype"
   ]
  },
  {
   "cell_type": "code",
   "execution_count": 69,
   "metadata": {
    "hidden": true
   },
   "outputs": [
    {
     "data": {
      "text/plain": [
       "B     0.294118\n",
       "O     0.294118\n",
       "A     0.235294\n",
       "AB    0.176471\n",
       "Name: bloodtype, dtype: float64"
      ]
     },
     "execution_count": 69,
     "metadata": {},
     "output_type": "execute_result"
    }
   ],
   "source": [
    "bloodType.value_counts(normalize=True)"
   ]
  },
  {
   "cell_type": "markdown",
   "metadata": {
    "hidden": true
   },
   "source": [
    "same as the above for gender"
   ]
  },
  {
   "cell_type": "code",
   "execution_count": 70,
   "metadata": {
    "hidden": true
   },
   "outputs": [
    {
     "data": {
      "text/plain": [
       "M    0.588235\n",
       "F    0.411765\n",
       "Name: gender, dtype: float64"
      ]
     },
     "execution_count": 70,
     "metadata": {},
     "output_type": "execute_result"
    }
   ],
   "source": [
    "gender.value_counts(normalize=True)"
   ]
  },
  {
   "cell_type": "markdown",
   "metadata": {
    "heading_collapsed": true
   },
   "source": [
    "##  Contingency table (Two way table):"
   ]
  },
  {
   "cell_type": "markdown",
   "metadata": {
    "hidden": true
   },
   "source": [
    "get the Contingency table using `pd.crosstab`"
   ]
  },
  {
   "cell_type": "code",
   "execution_count": 66,
   "metadata": {},
   "outputs": [
    {
     "data": {
      "text/html": [
       "<div>\n",
       "<style scoped>\n",
       "    .dataframe tbody tr th:only-of-type {\n",
       "        vertical-align: middle;\n",
       "    }\n",
       "\n",
       "    .dataframe tbody tr th {\n",
       "        vertical-align: top;\n",
       "    }\n",
       "\n",
       "    .dataframe thead th {\n",
       "        text-align: right;\n",
       "    }\n",
       "</style>\n",
       "<table border=\"1\" class=\"dataframe\">\n",
       "  <thead>\n",
       "    <tr style=\"text-align: right;\">\n",
       "      <th>gender</th>\n",
       "      <th>F</th>\n",
       "      <th>M</th>\n",
       "    </tr>\n",
       "    <tr>\n",
       "      <th>bloodtype</th>\n",
       "      <th></th>\n",
       "      <th></th>\n",
       "    </tr>\n",
       "  </thead>\n",
       "  <tbody>\n",
       "    <tr>\n",
       "      <th>A</th>\n",
       "      <td>2</td>\n",
       "      <td>2</td>\n",
       "    </tr>\n",
       "    <tr>\n",
       "      <th>AB</th>\n",
       "      <td>1</td>\n",
       "      <td>2</td>\n",
       "    </tr>\n",
       "    <tr>\n",
       "      <th>B</th>\n",
       "      <td>1</td>\n",
       "      <td>4</td>\n",
       "    </tr>\n",
       "    <tr>\n",
       "      <th>O</th>\n",
       "      <td>3</td>\n",
       "      <td>2</td>\n",
       "    </tr>\n",
       "  </tbody>\n",
       "</table>\n",
       "</div>"
      ],
      "text/plain": [
       "gender     F  M\n",
       "bloodtype      \n",
       "A          2  2\n",
       "AB         1  2\n",
       "B          1  4\n",
       "O          3  2"
      ]
     },
     "execution_count": 66,
     "metadata": {},
     "output_type": "execute_result"
    }
   ],
   "source": [
    "pd.crosstab(index=df['bloodtype'], columns=df['gender'])"
   ]
  },
  {
   "cell_type": "markdown",
   "metadata": {
    "hidden": true
   },
   "source": [
    "in order to get Contingency table with marginalization , set the parameter `margins=True`\n"
   ]
  },
  {
   "cell_type": "code",
   "execution_count": 68,
   "metadata": {
    "hidden": true
   },
   "outputs": [
    {
     "data": {
      "text/html": [
       "<div>\n",
       "<style scoped>\n",
       "    .dataframe tbody tr th:only-of-type {\n",
       "        vertical-align: middle;\n",
       "    }\n",
       "\n",
       "    .dataframe tbody tr th {\n",
       "        vertical-align: top;\n",
       "    }\n",
       "\n",
       "    .dataframe thead th {\n",
       "        text-align: right;\n",
       "    }\n",
       "</style>\n",
       "<table border=\"1\" class=\"dataframe\">\n",
       "  <thead>\n",
       "    <tr style=\"text-align: right;\">\n",
       "      <th>gender</th>\n",
       "      <th>F</th>\n",
       "      <th>M</th>\n",
       "      <th>All</th>\n",
       "    </tr>\n",
       "    <tr>\n",
       "      <th>bloodtype</th>\n",
       "      <th></th>\n",
       "      <th></th>\n",
       "      <th></th>\n",
       "    </tr>\n",
       "  </thead>\n",
       "  <tbody>\n",
       "    <tr>\n",
       "      <th>A</th>\n",
       "      <td>2</td>\n",
       "      <td>2</td>\n",
       "      <td>4</td>\n",
       "    </tr>\n",
       "    <tr>\n",
       "      <th>AB</th>\n",
       "      <td>1</td>\n",
       "      <td>2</td>\n",
       "      <td>3</td>\n",
       "    </tr>\n",
       "    <tr>\n",
       "      <th>B</th>\n",
       "      <td>1</td>\n",
       "      <td>4</td>\n",
       "      <td>5</td>\n",
       "    </tr>\n",
       "    <tr>\n",
       "      <th>O</th>\n",
       "      <td>3</td>\n",
       "      <td>2</td>\n",
       "      <td>5</td>\n",
       "    </tr>\n",
       "    <tr>\n",
       "      <th>All</th>\n",
       "      <td>7</td>\n",
       "      <td>10</td>\n",
       "      <td>17</td>\n",
       "    </tr>\n",
       "  </tbody>\n",
       "</table>\n",
       "</div>"
      ],
      "text/plain": [
       "gender     F   M  All\n",
       "bloodtype            \n",
       "A          2   2    4\n",
       "AB         1   2    3\n",
       "B          1   4    5\n",
       "O          3   2    5\n",
       "All        7  10   17"
      ]
     },
     "execution_count": 68,
     "metadata": {},
     "output_type": "execute_result"
    }
   ],
   "source": [
    "pd.crosstab(index=df['bloodtype'], columns=df['gender'],margins=True)"
   ]
  },
  {
   "cell_type": "markdown",
   "metadata": {},
   "source": [
    "# Hypothesis Test of proportions:\n",
    " "
   ]
  },
  {
   "cell_type": "markdown",
   "metadata": {},
   "source": [
    "## Chi-squared Tests:"
   ]
  },
  {
   "cell_type": "markdown",
   "metadata": {
    "heading_collapsed": true
   },
   "source": [
    "###  For one way table "
   ]
  },
  {
   "cell_type": "markdown",
   "metadata": {
    "hidden": true
   },
   "source": [
    "Suppose we have a frequency table of *eye color* of 592 adults. <br>\n",
    "Let us carry out the Chi-squared tests."
   ]
  },
  {
   "cell_type": "markdown",
   "metadata": {
    "hidden": true
   },
   "source": [
    "- step 1  : create a series with data , and set the table `['Brown','Blue','Hazel','Green']` as index   "
   ]
  },
  {
   "cell_type": "code",
   "execution_count": 83,
   "metadata": {
    "hidden": true
   },
   "outputs": [
    {
     "data": {
      "text/plain": [
       "Brown    220\n",
       "Blue     215\n",
       "Hazel     93\n",
       "Green     64\n",
       "dtype: int32"
      ]
     },
     "execution_count": 83,
     "metadata": {},
     "output_type": "execute_result"
    }
   ],
   "source": [
    "eye = pd.Series(data=data, index=['Brown','Blue','Hazel','Green'])\n",
    "eye"
   ]
  },
  {
   "cell_type": "markdown",
   "metadata": {
    "hidden": true
   },
   "source": [
    "Question 13 : create a Table of proportions. to do so , divide your series by the sum of the frequencies"
   ]
  },
  {
   "cell_type": "code",
   "execution_count": 84,
   "metadata": {
    "hidden": true
   },
   "outputs": [
    {
     "data": {
      "text/plain": [
       "Brown    0.371622\n",
       "Blue     0.363176\n",
       "Hazel    0.157095\n",
       "Green    0.108108\n",
       "dtype: float64"
      ]
     },
     "execution_count": 84,
     "metadata": {},
     "output_type": "execute_result"
    }
   ],
   "source": [
    "tab_proportions = eye / eye.sum()\n",
    "tab_proportions"
   ]
  },
  {
   "cell_type": "markdown",
   "metadata": {
    "hidden": true
   },
   "source": [
    "Question 14 : Compare with the default model of equal frequencies. ( in other words , calculate the chisquare of your series using `st.chisquare`"
   ]
  },
  {
   "cell_type": "code",
   "execution_count": 85,
   "metadata": {
    "hidden": true
   },
   "outputs": [
    {
     "data": {
      "text/plain": [
       "Power_divergenceResult(statistic=133.47297297297297, pvalue=9.650879774148268e-29)"
      ]
     },
     "execution_count": 85,
     "metadata": {},
     "output_type": "execute_result"
    }
   ],
   "source": [
    "st.chisquare(eye)"
   ]
  },
  {
   "cell_type": "markdown",
   "metadata": {
    "hidden": true
   },
   "source": [
    "Question 15 : the following is a model provided by the user that tries to approximate the frequencies "
   ]
  },
  {
   "cell_type": "code",
   "execution_count": 87,
   "metadata": {
    "ExecuteTime": {
     "end_time": "2021-07-25T21:11:06.825864Z",
     "start_time": "2021-07-25T21:11:06.806877Z"
    },
    "hidden": true
   },
   "outputs": [
    {
     "data": {
      "text/plain": [
       "[148.0, 148.0, 148.0, 148.0]"
      ]
     },
     "execution_count": 87,
     "metadata": {},
     "output_type": "execute_result"
    }
   ],
   "source": [
    "my_model = len(eye)*[np.mean(eye)]\n",
    "my_model"
   ]
  },
  {
   "cell_type": "markdown",
   "metadata": {
    "hidden": true
   },
   "source": [
    "run the following and describe the result :"
   ]
  },
  {
   "cell_type": "code",
   "execution_count": 88,
   "metadata": {
    "hidden": true
   },
   "outputs": [
    {
     "data": {
      "text/plain": [
       "Power_divergenceResult(statistic=133.47297297297297, pvalue=9.650879774148268e-29)"
      ]
     },
     "execution_count": 88,
     "metadata": {},
     "output_type": "execute_result"
    }
   ],
   "source": [
    "st.chisquare(f_obs=eye,f_exp = my_model)"
   ]
  },
  {
   "cell_type": "code",
   "execution_count": null,
   "metadata": {},
   "outputs": [],
   "source": [
    "#since the p_value is smaller than the significance level = 0.05, we reject the null hypothesis"
   ]
  },
  {
   "cell_type": "markdown",
   "metadata": {
    "hidden": true
   },
   "source": [
    "let's test with a more realistic model : "
   ]
  },
  {
   "cell_type": "code",
   "execution_count": 90,
   "metadata": {
    "hidden": true
   },
   "outputs": [
    {
     "data": {
      "text/plain": [
       "array([236.8 , 195.36,  88.8 ,  71.04])"
      ]
     },
     "execution_count": 90,
     "metadata": {},
     "output_type": "execute_result"
    }
   ],
   "source": [
    "my_model = eye.sum()*np.array([0.40,0.33,0.15,0.12])\n",
    "my_model"
   ]
  },
  {
   "cell_type": "markdown",
   "metadata": {
    "hidden": true
   },
   "source": [
    "run the following and describe the result. what do you conlcude about the two proposed models ? "
   ]
  },
  {
   "cell_type": "code",
   "execution_count": 91,
   "metadata": {
    "hidden": true
   },
   "outputs": [
    {
     "data": {
      "text/plain": [
       "Power_divergenceResult(statistic=4.06265356265356, pvalue=0.25477767063672113)"
      ]
     },
     "execution_count": 91,
     "metadata": {},
     "output_type": "execute_result"
    }
   ],
   "source": [
    "st.chisquare(f_obs=eye,f_exp = my_model )"
   ]
  },
  {
   "cell_type": "code",
   "execution_count": null,
   "metadata": {},
   "outputs": [],
   "source": [
    "#conclusion about the two models: we notice that after multiplying the eye by the np.array, the values become different \n",
    "#after they were equal. And as a consequence, the p_value gets bigger (than the significance level = 0.05) \n",
    "#So we accept the null hypothesis (fail to reject H0)"
   ]
  },
  {
   "cell_type": "markdown",
   "metadata": {},
   "source": [
    "##  For two way table:"
   ]
  },
  {
   "cell_type": "markdown",
   "metadata": {},
   "source": [
    "Suppose we have a contingency table of *eye color* vs *hair color* of 592 adults. <br>\n",
    "Let us carry out the Chi-squared test for independence."
   ]
  },
  {
   "cell_type": "code",
   "execution_count": 92,
   "metadata": {},
   "outputs": [
    {
     "data": {
      "text/html": [
       "<div>\n",
       "<style scoped>\n",
       "    .dataframe tbody tr th:only-of-type {\n",
       "        vertical-align: middle;\n",
       "    }\n",
       "\n",
       "    .dataframe tbody tr th {\n",
       "        vertical-align: top;\n",
       "    }\n",
       "\n",
       "    .dataframe thead th {\n",
       "        text-align: right;\n",
       "    }\n",
       "</style>\n",
       "<table border=\"1\" class=\"dataframe\">\n",
       "  <thead>\n",
       "    <tr style=\"text-align: right;\">\n",
       "      <th></th>\n",
       "      <th>Brown</th>\n",
       "      <th>Blue</th>\n",
       "      <th>Hazel</th>\n",
       "      <th>Green</th>\n",
       "    </tr>\n",
       "  </thead>\n",
       "  <tbody>\n",
       "    <tr>\n",
       "      <th>Black</th>\n",
       "      <td>68</td>\n",
       "      <td>20</td>\n",
       "      <td>15</td>\n",
       "      <td>5</td>\n",
       "    </tr>\n",
       "    <tr>\n",
       "      <th>Brown</th>\n",
       "      <td>119</td>\n",
       "      <td>84</td>\n",
       "      <td>54</td>\n",
       "      <td>29</td>\n",
       "    </tr>\n",
       "    <tr>\n",
       "      <th>Red</th>\n",
       "      <td>26</td>\n",
       "      <td>17</td>\n",
       "      <td>14</td>\n",
       "      <td>14</td>\n",
       "    </tr>\n",
       "    <tr>\n",
       "      <th>Blonde</th>\n",
       "      <td>7</td>\n",
       "      <td>94</td>\n",
       "      <td>10</td>\n",
       "      <td>16</td>\n",
       "    </tr>\n",
       "  </tbody>\n",
       "</table>\n",
       "</div>"
      ],
      "text/plain": [
       "        Brown  Blue  Hazel  Green\n",
       "Black      68    20     15      5\n",
       "Brown     119    84     54     29\n",
       "Red        26    17     14     14\n",
       "Blonde      7    94     10     16"
      ]
     },
     "execution_count": 92,
     "metadata": {},
     "output_type": "execute_result"
    }
   ],
   "source": [
    "# Data.\n",
    "# Row label    = hair color.\n",
    "# Column label = eye color. \n",
    "data_eye = {'Brown': [68,119,26,7], 'Blue':[20,84,17,94], 'Hazel':[15,54,14,10], 'Green':[5, 29, 14,16]}\n",
    "data = pd.DataFrame(data_eye,index=['Black','Brown','Red','Blonde'])\n",
    "data"
   ]
  },
  {
   "cell_type": "markdown",
   "metadata": {},
   "source": [
    "run the following to get Chi-square test of independence of variables in a contingency table. what do you conclude about the relationship between these two categorical variables ? "
   ]
  },
  {
   "cell_type": "code",
   "execution_count": 93,
   "metadata": {},
   "outputs": [
    {
     "data": {
      "text/plain": [
       "(138.28984162600824,\n",
       " 2.325286787098839e-25,\n",
       " 9,\n",
       " array([[ 40.13513514,  39.22297297,  16.96621622,  11.67567568],\n",
       "        [106.28378378, 103.86824324,  44.92905405,  30.91891892],\n",
       "        [ 26.38513514,  25.78547297,  11.15371622,   7.67567568],\n",
       "        [ 47.19594595,  46.12331081,  19.95101351,  13.72972973]]))"
      ]
     },
     "execution_count": 93,
     "metadata": {},
     "output_type": "execute_result"
    }
   ],
   "source": [
    "st.chi2_contingency(data)"
   ]
  },
  {
   "cell_type": "code",
   "execution_count": null,
   "metadata": {},
   "outputs": [],
   "source": [
    "#The p_value is so small which means the variables are related (dependant)"
   ]
  },
  {
   "cell_type": "markdown",
   "metadata": {},
   "source": [
    "Suppose we have a contingency table of the room class vs survived from RMS Titanic.\n",
    "Let us carry out the Chi-squared test for independence."
   ]
  },
  {
   "cell_type": "code",
   "execution_count": 94,
   "metadata": {
    "ExecuteTime": {
     "end_time": "2021-07-25T21:58:55.059166Z",
     "start_time": "2021-07-25T21:58:55.039179Z"
    },
    "code_folding": []
   },
   "outputs": [
    {
     "data": {
      "text/html": [
       "<div>\n",
       "<style scoped>\n",
       "    .dataframe tbody tr th:only-of-type {\n",
       "        vertical-align: middle;\n",
       "    }\n",
       "\n",
       "    .dataframe tbody tr th {\n",
       "        vertical-align: top;\n",
       "    }\n",
       "\n",
       "    .dataframe thead th {\n",
       "        text-align: right;\n",
       "    }\n",
       "</style>\n",
       "<table border=\"1\" class=\"dataframe\">\n",
       "  <thead>\n",
       "    <tr style=\"text-align: right;\">\n",
       "      <th></th>\n",
       "      <th>Yes</th>\n",
       "      <th>No</th>\n",
       "    </tr>\n",
       "  </thead>\n",
       "  <tbody>\n",
       "    <tr>\n",
       "      <th>1st</th>\n",
       "      <td>122</td>\n",
       "      <td>203</td>\n",
       "    </tr>\n",
       "    <tr>\n",
       "      <th>2nd</th>\n",
       "      <td>167</td>\n",
       "      <td>118</td>\n",
       "    </tr>\n",
       "    <tr>\n",
       "      <th>3rd</th>\n",
       "      <td>528</td>\n",
       "      <td>178</td>\n",
       "    </tr>\n",
       "    <tr>\n",
       "      <th>Crew</th>\n",
       "      <td>673</td>\n",
       "      <td>212</td>\n",
       "    </tr>\n",
       "  </tbody>\n",
       "</table>\n",
       "</div>"
      ],
      "text/plain": [
       "      Yes   No\n",
       "1st   122  203\n",
       "2nd   167  118\n",
       "3rd   528  178\n",
       "Crew  673  212"
      ]
     },
     "execution_count": 94,
     "metadata": {},
     "output_type": "execute_result"
    }
   ],
   "source": [
    "# Data.\n",
    "# Row label    = room class.\n",
    "# Column label = survived. \n",
    "data_survived = {'Yes':[122, 167, 528, 673], 'No':[203,118,178,212]}\n",
    "data = pd.DataFrame(data_survived,index=['1st','2nd','3rd','Crew'])\n",
    "data"
   ]
  },
  {
   "cell_type": "markdown",
   "metadata": {},
   "source": [
    "run the following to get Chi-square test of independence of variables in a contingency table. what do you conclude about the relationship between these two categorical variables ? "
   ]
  },
  {
   "cell_type": "code",
   "execution_count": 95,
   "metadata": {},
   "outputs": [
    {
     "data": {
      "text/plain": [
       "(190.40110361683327,\n",
       " 4.999927529868003e-41,\n",
       " 3,\n",
       " array([[220.01363017, 104.98636983],\n",
       "        [192.93502953,  92.06497047],\n",
       "        [477.93730123, 228.06269877],\n",
       "        [599.11403907, 285.88596093]]))"
      ]
     },
     "execution_count": 95,
     "metadata": {},
     "output_type": "execute_result"
    }
   ],
   "source": [
    "st.chi2_contingency(data)"
   ]
  },
  {
   "cell_type": "code",
   "execution_count": null,
   "metadata": {},
   "outputs": [],
   "source": [
    "#The p_value is so smaller than the significance level 0.05, which means that our variables are dependant, we reject H0"
   ]
  }
 ],
 "metadata": {
  "kernelspec": {
   "display_name": "Python 3",
   "language": "python",
   "name": "python3"
  },
  "language_info": {
   "codemirror_mode": {
    "name": "ipython",
    "version": 3
   },
   "file_extension": ".py",
   "mimetype": "text/x-python",
   "name": "python",
   "nbconvert_exporter": "python",
   "pygments_lexer": "ipython3",
   "version": "3.8.5"
  },
  "toc": {
   "base_numbering": 1,
   "nav_menu": {},
   "number_sections": true,
   "sideBar": true,
   "skip_h1_title": false,
   "title_cell": "Table of Contents",
   "title_sidebar": "Contents",
   "toc_cell": false,
   "toc_position": {},
   "toc_section_display": true,
   "toc_window_display": false
  },
  "varInspector": {
   "cols": {
    "lenName": 16,
    "lenType": 16,
    "lenVar": 40
   },
   "kernels_config": {
    "python": {
     "delete_cmd_postfix": "",
     "delete_cmd_prefix": "del ",
     "library": "var_list.py",
     "varRefreshCmd": "print(var_dic_list())"
    },
    "r": {
     "delete_cmd_postfix": ") ",
     "delete_cmd_prefix": "rm(",
     "library": "var_list.r",
     "varRefreshCmd": "cat(var_dic_list()) "
    }
   },
   "types_to_exclude": [
    "module",
    "function",
    "builtin_function_or_method",
    "instance",
    "_Feature"
   ],
   "window_display": false
  }
 },
 "nbformat": 4,
 "nbformat_minor": 2
}
